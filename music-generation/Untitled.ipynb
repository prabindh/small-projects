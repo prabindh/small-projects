{
 "cells": [
  {
   "cell_type": "code",
   "execution_count": 214,
   "metadata": {},
   "outputs": [],
   "source": [
    "from music21 import corpus, graph, stream, note, duration, pitch\n",
    "import tensorflow as tf\n",
    "from collections import OrderedDict\n",
    "from tqdm import tqdm\n",
    "from IPython import display\n",
    "import numpy as np\n",
    "import pickle"
   ]
  },
  {
   "cell_type": "code",
   "execution_count": 2,
   "metadata": {
    "scrolled": true
   },
   "outputs": [],
   "source": [
    "paths = corpus.getComposer('bach')"
   ]
  },
  {
   "cell_type": "code",
   "execution_count": 249,
   "metadata": {},
   "outputs": [],
   "source": [
    "def get_note_to_index_dict(paths):\n",
    "    notes = set()\n",
    "    \n",
    "    for path in tqdm(paths):\n",
    "                \n",
    "        streamObj = corpus.parse(path)\n",
    "        \n",
    "        for el in streamObj.recurse().notes:\n",
    "            print(el.offset, el.name, el.activeSite.number, el.activeSite.offset)\n",
    "            #notes.add(el.name)\n",
    "\n",
    "        gr = graph.plot.HorizontalBarPitchSpaceOffset(streamObj)\n",
    "        gr.extractData()\n",
    "        \n",
    "        for note, _, _ in gr.data:\n",
    "            notes.add(note)\n",
    "    \n",
    "    note_to_index = {note : ind for ind, note in enumerate(list(notes))}\n",
    "    \n",
    "    return note_to_index\n",
    "        \n",
    "\n",
    "def convert_path_to_matrix(path, note_to_index):\n",
    "    streamObj = corpus.parse(path)\n",
    "    \n",
    "    gr = graph.plot.HorizontalBarPitchSpaceOffset(streamObj)\n",
    "    gr.extractData()\n",
    "    \n",
    "    pianoroll = OrderedDict()\n",
    "    \n",
    "    for note, arr, _ in gr.data:\n",
    "        if note != '':\n",
    "            pianoroll[note] = arr\n",
    "    \n",
    "    data = []\n",
    "\n",
    "    for key in pianoroll.keys():\n",
    "        for _arr in pianoroll[key]:\n",
    "            arr = [note_to_index[key]]\n",
    "            arr.extend(list(_arr))\n",
    "            data.append(arr)\n",
    "            \n",
    "    return data"
   ]
  },
  {
   "cell_type": "code",
   "execution_count": 250,
   "metadata": {},
   "outputs": [
    {
     "name": "stderr",
     "output_type": "stream",
     "text": [
      "\n",
      "  0%|          | 0/1 [00:00<?, ?it/s]\u001b[A"
     ]
    },
    {
     "name": "stdout",
     "output_type": "stream",
     "text": [
      "0.0 F 0 0.0\n",
      "0.0 G 1 1.0\n",
      "0.5 C 1 1.0\n",
      "1.0 F 1 1.0\n",
      "1.5 F 1 1.0\n",
      "2.0 A 1 1.0\n",
      "2.5 F 1 1.0\n",
      "3.0 A 1 1.0\n",
      "3.5 C 1 1.0\n",
      "0.0 F 2 5.0\n",
      "0.25 B- 2 5.0\n",
      "0.5 A 2 5.0\n",
      "0.75 G 2 5.0\n",
      "1.0 F 2 5.0\n",
      "1.5 G 2 5.0\n",
      "2.0 A 2 5.0\n",
      "3.0 A 2 5.0\n",
      "0.0 F 3 9.0\n",
      "0.5 G 3 9.0\n",
      "0.75 A 3 9.0\n",
      "1.0 B- 3 9.0\n",
      "1.5 C 3 9.0\n",
      "1.75 B- 3 9.0\n",
      "2.0 A 3 9.0\n",
      "2.5 G 3 9.0\n",
      "3.0 G 3 9.0\n",
      "3.5 C 3 9.0\n",
      "0.0 C 4 13.0\n",
      "0.5 B 4 13.0\n",
      "0.75 A 4 13.0\n",
      "1.0 B 4 13.0\n",
      "2.0 C 4 13.0\n",
      "3.0 F 4 13.0\n",
      "0.0 F 5 17.0\n",
      "0.5 B- 5 17.0\n",
      "1.0 A 5 17.0\n",
      "1.5 G 5 17.0\n",
      "2.0 F 5 17.0\n",
      "2.5 C 5 17.0\n",
      "3.0 F 5 17.0\n",
      "3.5 C 5 17.0\n",
      "0.0 C 6 21.0\n",
      "0.5 A 6 21.0\n",
      "0.75 F 6 21.0\n",
      "1.0 C 6 21.0\n",
      "1.5 C 6 21.0\n",
      "1.75 C 6 21.0\n",
      "2.0 A 6 21.0\n",
      "3.0 F 6 21.0\n",
      "0.0 G 7 25.0\n",
      "0.5 C 7 25.0\n",
      "1.0 F 7 25.0\n",
      "1.5 F 7 25.0\n",
      "2.0 A 7 25.0\n",
      "2.5 F 7 25.0\n",
      "3.0 A 7 25.0\n",
      "3.5 C 7 25.0\n",
      "0.0 F 8 29.0\n",
      "0.25 B- 8 29.0\n",
      "0.5 A 8 29.0\n",
      "0.75 G 8 29.0\n",
      "1.0 F 8 29.0\n",
      "1.5 G 8 29.0\n",
      "2.0 A 8 29.0\n",
      "3.0 A 8 29.0\n",
      "0.0 F 9 33.0\n",
      "0.5 G 9 33.0\n",
      "0.75 A 9 33.0\n",
      "1.0 B- 9 33.0\n",
      "1.5 C 9 33.0\n",
      "1.75 B- 9 33.0\n",
      "2.0 A 9 33.0\n",
      "2.5 G 9 33.0\n",
      "3.0 G 9 33.0\n",
      "3.5 C 9 33.0\n",
      "0.0 C 10 37.0\n",
      "0.5 B 10 37.0\n",
      "0.75 A 10 37.0\n",
      "1.0 B 10 37.0\n",
      "2.0 C 10 37.0\n",
      "3.0 F 10 37.0\n",
      "0.0 F 11 41.0\n",
      "0.5 B- 11 41.0\n",
      "1.0 A 11 41.0\n",
      "1.5 G 11 41.0\n",
      "2.0 F 11 41.0\n",
      "2.5 C 11 41.0\n",
      "3.0 F 11 41.0\n",
      "3.5 C 11 41.0\n",
      "0.0 C 12 45.0\n",
      "0.5 A 12 45.0\n",
      "0.75 F 12 45.0\n",
      "1.0 C 12 45.0\n",
      "1.5 C 12 45.0\n",
      "1.75 C 12 45.0\n",
      "2.0 A 12 45.0\n",
      "0.0 G 13 49.0\n",
      "0.5 C 13 49.0\n",
      "0.75 C 13 49.0\n",
      "1.0 C 13 49.0\n",
      "1.25 C 13 49.0\n",
      "1.5 C 13 49.0\n",
      "1.75 C 13 49.0\n",
      "2.0 F 13 49.0\n",
      "0.0 G 14 53.0\n",
      "0.25 F 14 53.0\n",
      "0.5 G 14 53.0\n",
      "0.75 A 14 53.0\n",
      "1.0 G 14 53.0\n",
      "2.0 F 14 53.0\n",
      "0.0 F 15 57.0\n",
      "0.5 C 15 57.0\n",
      "1.0 F 15 57.0\n",
      "1.5 C 15 57.0\n",
      "2.0 C 15 57.0\n",
      "2.5 B- 15 57.0\n",
      "2.75 A 15 57.0\n",
      "3.0 B- 15 57.0\n",
      "3.5 C 15 57.0\n",
      "3.75 B- 15 57.0\n",
      "0.0 A 16 61.0\n",
      "0.5 G 16 61.0\n",
      "1.0 F 16 61.0\n",
      "1.5 C 16 61.0\n",
      "2.0 C 16 61.0\n",
      "3.5 C 16 61.0\n",
      "0.0 G 17 65.0\n",
      "0.5 F 17 65.0\n",
      "0.75 E 17 65.0\n",
      "1.0 F 17 65.0\n",
      "2.0 F 17 65.0\n",
      "2.5 F 17 65.0\n",
      "3.0 C 17 65.0\n",
      "3.5 C 17 65.0\n",
      "3.75 C 17 65.0\n",
      "0.0 A 18 69.0\n",
      "2.0 A 18 69.0\n",
      "2.25 G 18 69.0\n",
      "2.5 A 18 69.0\n",
      "2.75 B- 18 69.0\n",
      "3.0 C 18 69.0\n",
      "0.0 C 19 73.0\n",
      "0.5 B- 19 73.0\n",
      "1.5 A 19 73.0\n",
      "2.0 A 19 73.0\n",
      "2.5 G 19 73.0\n",
      "3.5 F 19 73.0\n",
      "0.0 F 20 77.0\n",
      "0.5 F 20 77.0\n",
      "1.0 C 20 77.0\n",
      "1.5 C 20 77.0\n",
      "1.75 C 20 77.0\n",
      "2.0 A 20 77.0\n",
      "0.0 F 0 0.0\n",
      "0.0 C 1 1.0\n",
      "1.0 A 1 1.0\n",
      "2.0 F 1 1.0\n",
      "3.0 C 1 1.0\n",
      "0.0 D 2 5.0\n",
      "1.0 D 2 5.0\n",
      "2.0 C 2 5.0\n",
      "3.0 C 2 5.0\n",
      "0.0 D 3 9.0\n",
      "1.0 E 3 9.0\n",
      "2.0 F 3 9.0\n",
      "3.0 E 3 9.0\n",
      "0.0 D 4 13.0\n",
      "1.0 D 4 13.0\n",
      "2.0 C 4 13.0\n",
      "3.0 A 4 13.0\n",
      "0.0 D 5 17.0\n",
      "1.0 C 5 17.0\n",
      "2.0 B- 5 17.0\n",
      "3.0 A 5 17.0\n",
      "0.0 G 6 21.0\n",
      "2.0 F 6 21.0\n",
      "3.0 F 6 21.0\n",
      "0.0 C 7 25.0\n",
      "1.0 A 7 25.0\n",
      "2.0 F 7 25.0\n",
      "3.0 C 7 25.0\n",
      "0.0 D 8 29.0\n",
      "1.0 D 8 29.0\n",
      "2.0 C 8 29.0\n",
      "3.0 C 8 29.0\n",
      "0.0 D 9 33.0\n",
      "1.0 E 9 33.0\n",
      "2.0 F 9 33.0\n",
      "3.0 E 9 33.0\n",
      "0.0 D 10 37.0\n",
      "1.0 D 10 37.0\n",
      "2.0 C 10 37.0\n",
      "3.0 A 10 37.0\n",
      "0.0 D 11 41.0\n",
      "1.0 C 11 41.0\n",
      "2.0 B- 11 41.0\n",
      "3.0 A 11 41.0\n",
      "0.0 G 12 45.0\n",
      "2.0 F 12 45.0\n",
      "0.0 C 13 49.0\n",
      "2.0 A 13 49.0\n",
      "0.0 C 14 53.0\n",
      "2.0 A 14 53.0\n",
      "0.0 A 15 57.0\n",
      "1.0 A 15 57.0\n",
      "2.0 G 15 57.0\n",
      "3.0 G 15 57.0\n",
      "0.0 A 16 61.0\n",
      "1.0 A 16 61.0\n",
      "2.0 G 16 61.0\n",
      "3.0 A 16 61.0\n",
      "0.0 B- 17 65.0\n",
      "1.0 A 17 65.0\n",
      "2.0 G 17 65.0\n",
      "0.0 F 18 69.0\n",
      "2.0 F 18 69.0\n",
      "3.0 E 18 69.0\n",
      "0.0 D 19 73.0\n",
      "1.0 C 19 73.0\n",
      "2.0 B- 19 73.0\n",
      "3.0 A 19 73.0\n",
      "0.0 G 20 77.0\n",
      "2.0 F 20 77.0\n",
      "0.0 C 0 0.0\n",
      "0.0 C 1 1.0\n",
      "1.0 C 1 1.0\n",
      "2.0 D 1 1.0\n",
      "3.0 F 1 1.0\n",
      "0.0 B- 2 5.0\n",
      "1.0 B- 2 5.0\n",
      "2.0 A 2 5.0\n",
      "3.0 A 2 5.0\n",
      "0.0 B- 3 9.0\n",
      "1.0 B- 3 9.0\n",
      "2.0 C 3 9.0\n",
      "2.5 D 3 9.0\n",
      "3.0 C 3 9.0\n",
      "3.5 G 3 9.0\n",
      "0.0 A 4 13.0\n",
      "1.0 G 4 13.0\n",
      "2.0 G 4 13.0\n",
      "3.0 F 4 13.0\n",
      "0.0 F 5 17.0\n",
      "1.0 E 5 17.0\n",
      "2.0 F 5 17.0\n",
      "2.5 G 5 17.0\n",
      "3.0 C 5 17.0\n",
      "3.5 F 5 17.0\n",
      "0.0 F 6 21.0\n",
      "1.0 E 6 21.0\n",
      "2.0 C 6 21.0\n",
      "3.0 C 6 21.0\n",
      "0.0 C 7 25.0\n",
      "1.0 C 7 25.0\n",
      "2.0 D 7 25.0\n",
      "3.0 F 7 25.0\n",
      "0.0 B- 8 29.0\n",
      "1.0 B- 8 29.0\n",
      "2.0 A 8 29.0\n",
      "3.0 A 8 29.0\n",
      "0.0 B- 9 33.0\n",
      "1.0 B- 9 33.0\n",
      "2.0 C 9 33.0\n",
      "2.5 D 9 33.0\n",
      "3.0 C 9 33.0\n",
      "3.5 G 9 33.0\n",
      "0.0 A 10 37.0\n",
      "1.0 G 10 37.0\n",
      "2.0 G 10 37.0\n",
      "3.0 F 10 37.0\n",
      "0.0 F 11 41.0\n",
      "1.0 E 11 41.0\n",
      "2.0 F 11 41.0\n",
      "2.5 G 11 41.0\n",
      "3.0 C 11 41.0\n",
      "3.5 F 11 41.0\n",
      "0.0 F 12 45.0\n",
      "1.0 E 12 45.0\n",
      "2.0 C 12 45.0\n",
      "0.0 G 13 49.0\n",
      "2.0 F 13 49.0\n",
      "0.0 F 14 53.0\n",
      "0.5 E 14 53.0\n",
      "0.75 D 14 53.0\n",
      "1.0 E 14 53.0\n",
      "2.0 F 14 53.0\n",
      "0.0 F 15 57.0\n",
      "1.0 F 15 57.0\n",
      "2.0 E 15 57.0\n",
      "3.0 E 15 57.0\n",
      "0.0 F 16 61.0\n",
      "1.0 F 16 61.0\n",
      "2.0 E 16 61.0\n",
      "3.0 F 16 61.0\n",
      "0.0 G 17 65.0\n",
      "1.0 F 17 65.0\n",
      "1.5 E 17 65.0\n",
      "2.0 D 17 65.0\n",
      "3.0 E 17 65.0\n",
      "0.0 F 18 69.0\n",
      "2.0 A 18 69.0\n",
      "3.0 A 18 69.0\n",
      "3.5 G 18 69.0\n",
      "0.0 F 19 73.0\n",
      "1.0 F 19 73.0\n",
      "2.0 F 19 73.0\n",
      "2.5 E 19 73.0\n",
      "3.0 C 19 73.0\n",
      "3.5 F 19 73.0\n",
      "0.0 F 20 77.0\n",
      "1.0 E 20 77.0\n",
      "2.0 C 20 77.0\n",
      "0.0 A 0 0.0\n",
      "0.0 G 1 1.0\n",
      "1.0 A 1 1.0\n",
      "2.0 A 1 1.0\n",
      "3.0 A 1 1.0\n",
      "0.0 F 2 5.0\n",
      "1.0 F 2 5.0\n",
      "2.0 F 2 5.0\n",
      "3.0 F 2 5.0\n",
      "0.0 F 3 9.0\n",
      "1.0 G 3 9.0\n",
      "2.0 F 3 9.0\n",
      "2.5 D 3 9.0\n",
      "3.0 E 3 9.0\n",
      "0.0 F 4 13.0\n",
      "0.5 E 4 13.0\n",
      "1.0 D 4 13.0\n",
      "2.0 E 4 13.0\n",
      "3.0 C 4 13.0\n",
      "3.5 A 4 13.0\n",
      "0.0 F 5 17.0\n",
      "0.5 G 5 17.0\n",
      "1.0 A 5 17.0\n",
      "2.0 A 5 17.0\n",
      "2.5 G 5 17.0\n",
      "3.0 A 5 17.0\n",
      "3.5 F 5 17.0\n",
      "0.0 G 6 21.0\n",
      "0.5 A 6 21.0\n",
      "1.0 B- 6 21.0\n",
      "2.0 A 6 21.0\n",
      "3.0 A 6 21.0\n",
      "0.0 G 7 25.0\n",
      "1.0 A 7 25.0\n",
      "2.0 A 7 25.0\n",
      "3.0 A 7 25.0\n",
      "0.0 F 8 29.0\n",
      "1.0 F 8 29.0\n",
      "2.0 F 8 29.0\n",
      "3.0 F 8 29.0\n",
      "0.0 F 9 33.0\n",
      "1.0 G 9 33.0\n",
      "2.0 F 9 33.0\n",
      "2.5 D 9 33.0\n",
      "3.0 E 9 33.0\n",
      "0.0 F 10 37.0\n",
      "0.5 E 10 37.0\n",
      "1.0 D 10 37.0\n",
      "2.0 E 10 37.0\n",
      "3.0 C 10 37.0\n",
      "3.5 A 10 37.0\n",
      "0.0 F 11 41.0\n",
      "0.5 G 11 41.0\n",
      "1.0 A 11 41.0\n",
      "2.0 A 11 41.0\n",
      "2.5 G 11 41.0\n",
      "3.0 A 11 41.0\n",
      "3.5 F 11 41.0\n",
      "0.0 G 12 45.0\n",
      "0.5 A 12 45.0\n",
      "1.0 B- 12 45.0\n",
      "2.0 A 12 45.0\n",
      "0.0 C 13 49.0\n",
      "2.0 C 13 49.0\n",
      "0.0 C 14 53.0\n",
      "2.0 C 14 53.0\n",
      "0.0 C 15 57.0\n",
      "1.0 C 15 57.0\n",
      "2.0 C 15 57.0\n",
      "3.0 C 15 57.0\n",
      "0.0 C 16 61.0\n",
      "1.0 C 16 61.0\n",
      "2.0 C 16 61.0\n",
      "3.0 C 16 61.0\n",
      "0.0 D 17 65.0\n",
      "1.0 D 17 65.0\n",
      "2.0 D 17 65.0\n",
      "3.0 C 17 65.0\n",
      "0.0 C 18 69.0\n",
      "2.0 D 18 69.0\n",
      "3.0 C 18 69.0\n",
      "0.0 D 19 73.0\n",
      "0.5 B- 19 73.0\n",
      "1.0 F 19 73.0\n",
      "1.5 A 19 73.0\n",
      "2.0 B- 19 73.0\n",
      "3.0 C 19 73.0\n",
      "3.5 A 19 73.0\n",
      "0.0 D 20 77.0\n",
      "1.0 G 20 77.0\n",
      "1.25 F 20 77.0\n",
      "1.5 G 20 77.0\n",
      "2.0 A 20 77.0\n",
      "0.0 F 0 0.0\n",
      "0.0 E 1 1.0\n",
      "1.0 F 1 1.0\n",
      "2.0 D 1 1.0\n",
      "3.0 A 1 1.0\n",
      "0.0 B- 2 5.0\n",
      "0.5 C 2 5.0\n",
      "1.0 D 2 5.0\n",
      "1.5 E 2 5.0\n",
      "2.0 F 2 5.0\n",
      "3.0 F 2 5.0\n",
      "0.0 B- 3 9.0\n",
      "1.0 A 3 9.0\n",
      "1.5 G 3 9.0\n",
      "2.0 A 3 9.0\n",
      "2.5 B 3 9.0\n",
      "3.0 C 3 9.0\n",
      "0.0 F 4 13.0\n",
      "1.0 G 4 13.0\n",
      "2.0 C 4 13.0\n",
      "3.0 F 4 13.0\n",
      "0.0 B- 5 17.0\n",
      "1.0 C 5 17.0\n",
      "2.0 D 5 17.0\n",
      "2.5 E 5 17.0\n",
      "3.0 F 5 17.0\n",
      "0.0 C 6 21.0\n",
      "2.0 F 6 21.0\n",
      "3.0 F 6 21.0\n",
      "0.0 E 7 25.0\n",
      "1.0 F 7 25.0\n",
      "2.0 D 7 25.0\n",
      "3.0 A 7 25.0\n",
      "0.0 B- 8 29.0\n",
      "0.5 C 8 29.0\n",
      "1.0 D 8 29.0\n",
      "1.5 E 8 29.0\n",
      "2.0 F 8 29.0\n",
      "3.0 F 8 29.0\n",
      "0.0 B- 9 33.0\n",
      "1.0 A 9 33.0\n",
      "1.5 G 9 33.0\n",
      "2.0 A 9 33.0\n",
      "2.5 B 9 33.0\n",
      "3.0 C 9 33.0\n",
      "0.0 F 10 37.0\n",
      "1.0 G 10 37.0\n",
      "2.0 C 10 37.0\n",
      "3.0 F 10 37.0\n",
      "0.0 B- 11 41.0\n",
      "1.0 C 11 41.0\n",
      "2.0 D 11 41.0\n",
      "2.5 E 11 41.0\n",
      "3.0 F 11 41.0\n",
      "0.0 C 12 45.0\n",
      "2.0 F 12 45.0\n",
      "0.0 E 13 49.0\n",
      "2.0 F 13 49.0\n",
      "0.0 C 14 53.0\n",
      "2.0 F 14 53.0\n",
      "0.0 F 15 57.0\n",
      "0.5 G 15 57.0\n",
      "1.0 A 15 57.0\n",
      "1.5 F 15 57.0\n",
      "2.0 C 15 57.0\n",
      "2.5 D 15 57.0\n",
      "3.0 E 15 57.0\n",
      "3.5 C 15 57.0\n",
      "0.0 F 16 61.0\n",
      "0.5 G 16 61.0\n",
      "1.0 A 16 61.0\n",
      "1.5 F 16 61.0\n",
      "2.0 C 16 61.0\n",
      "3.0 B- 16 61.0\n",
      "3.5 A 16 61.0\n",
      "0.0 G 17 65.0\n",
      "1.0 D 17 65.0\n",
      "1.5 C 17 65.0\n",
      "2.0 B- 17 65.0\n",
      "3.0 C 17 65.0\n",
      "0.0 F 18 69.0\n",
      "2.0 D 18 69.0\n",
      "2.5 F 18 69.0\n",
      "3.0 A 18 69.0\n",
      "0.0 B- 19 73.0\n",
      "0.5 D 19 73.0\n",
      "1.0 F 19 73.0\n",
      "2.0 G 19 73.0\n",
      "3.0 A 19 73.0\n",
      "3.5 D 19 73.0\n",
      "0.0 B 20 77.0\n",
      "1.0 C 20 77.0\n",
      "2.0 F 20 77.0\n"
     ]
    },
    {
     "name": "stderr",
     "output_type": "stream",
     "text": [
      "\n",
      "100%|██████████| 1/1 [00:00<00:00,  1.18it/s]\u001b[A\n"
     ]
    }
   ],
   "source": [
    "note_to_index = get_note_to_index_dict(paths[:1])"
   ]
  },
  {
   "cell_type": "code",
   "execution_count": 231,
   "metadata": {},
   "outputs": [
    {
     "data": {
      "text/plain": [
       "433"
      ]
     },
     "execution_count": 231,
     "metadata": {},
     "output_type": "execute_result"
    }
   ],
   "source": [
    "len(paths)"
   ]
  },
  {
   "cell_type": "code",
   "execution_count": 234,
   "metadata": {
    "scrolled": true
   },
   "outputs": [
    {
     "name": "stderr",
     "output_type": "stream",
     "text": [
      "100%|██████████| 3/3 [00:00<00:00,  3.64it/s]\n"
     ]
    }
   ],
   "source": [
    "output_data = dict()\n",
    "\n",
    "for path in tqdm(paths[:3]):\n",
    "    #display.clear_output(wait=True)\n",
    "    name = str(path).split('/')[-1].replace('.mxl', '')\n",
    "    data = convert_path_to_matrix(path, note_to_index)\n",
    "    output_data[name] = np.array(data)"
   ]
  },
  {
   "cell_type": "code",
   "execution_count": 116,
   "metadata": {},
   "outputs": [],
   "source": [
    "with open('first_300.pickle', 'wb+') as f:\n",
    "    pickle.dump(output_data, f, protocol=pickle.HIGHEST_PROTOCOL)"
   ]
  },
  {
   "cell_type": "code",
   "execution_count": 117,
   "metadata": {},
   "outputs": [],
   "source": [
    "with open('first_300.pickle', 'rb') as f:\n",
    "    _data = pickle.load(f)"
   ]
  },
  {
   "cell_type": "code",
   "execution_count": 118,
   "metadata": {},
   "outputs": [
    {
     "name": "stdout",
     "output_type": "stream",
     "text": [
      "(252, 3) (109, 3) (72, 3) (105, 3) (115, 3) (92, 3) (124, 3) (92, 3) (92, 3) (213, 3) (240, 3) (172, 3) (97, 3) (110, 3) (57, 3) (129, 3) (79, 3) (88, 3) (131, 3) (142, 3) (221, 3) (136, 3) (62, 3) (93, 3) (105, 3) (101, 3) (197, 3) (112, 3) (157, 3) (95, 3) (151, 3) (77, 3) (134, 3) (124, 3) (257, 3) (94, 3) (123, 3) (88, 3) (86, 3) (126, 3) (61, 3) (75, 3) (175, 3) (117, 3) (172, 3) (90, 3) (95, 3) (93, 3) (84, 3) (106, 3) (95, 3) (93, 3) (81, 3) (100, 3) (85, 3) (165, 3) (100, 3) (147, 3) (135, 3) (72, 3) (94, 3) (62, 3) (89, 3) (95, 3) (169, 3) (300, 3) (160, 3) (135, 3) (235, 3) (150, 3) (79, 3) (109, 3) (130, 3) (80, 3) (98, 3) (124, 3) (122, 3) (131, 3) (84, 3) (165, 3) (142, 3) (103, 3) (258, 3) (629, 3) (194, 3) (84, 3) (81, 3) (185, 3) (56, 3) (112, 3) (97, 3) (85, 3) (81, 3) (126, 3) (182, 3) (84, 3) (58, 3) (112, 3) (75, 3) (124, 3) (167, 3) (113, 3) (77, 3) (113, 3) (117, 3) (108, 3) (67, 3) (82, 3) (141, 3) (156, 3) (74, 3) (74, 3) (89, 3) (109, 3) (118, 3) (133, 3) (116, 3) (94, 3) (70, 3) (73, 3) (124, 3) (96, 3) (107, 3) (182, 3) (70, 3) (74, 3) (121, 3) (131, 3) (86, 3) (88, 3) (108, 3) (161, 3) (179, 3) (724, 3) (92, 3) (112, 3) (103, 3) (73, 3) (115, 3) (1495, 3) (121, 3) (134, 3) (90, 3) (99, 3) (146, 3) (156, 3) (175, 3) (76, 3) (115, 3) (83, 3) (98, 3) (99, 3) (90, 3) (95, 3) (89, 3) (116, 3) (124, 3) (71, 3) (95, 3) (82, 3) (71, 3) (135, 3) (141, 3) (111, 3) (124, 3) (146, 3) (85, 3) (87, 3) (98, 3) (85, 3) (116, 3) (116, 3) (207, 3) (87, 3) (116, 3) (82, 3) (84, 3) (93, 3) (103, 3) (66, 3) (66, 3) (57, 3) (135, 3) (160, 3) (117, 3) (52, 3) (126, 3) (112, 3) (97, 3) (143, 3) (69, 3) (107, 3) (111, 3) (85, 3) (112, 3) (100, 3) (102, 3) (99, 3) (103, 3) (94, 3) (93, 3) (111, 3) (123, 3) (76, 3) (116, 3) (129, 3) (171, 3) (173, 3) (122, 3) (82, 3) (72, 3) (153, 3) (150, 3) (87, 3) (109, 3) (127, 3) (102, 3) (76, 3) (75, 3) (99, 3) (92, 3) (58, 3) (127, 3) (95, 3) (168, 3) (80, 3) (164, 3) (49, 3) (52, 3) (120, 3) (58, 3) (60, 3) (486, 3) (76, 3) (139, 3) (71, 3) (72, 3) (59, 3) (111, 3) (111, 3) (59, 3) (67, 3) (84, 3) (122, 3) (97, 3) (181, 3) (79, 3) (96, 3) (130, 3) (121, 3) (88, 3) (152, 3) (118, 3) (139, 3) (113, 3) (155, 3) (104, 3) (112, 3) (117, 3) (100, 3) (129, 3) (95, 3) (131, 3) (64, 3) (104, 3) (98, 3) (74, 3) (80, 3) (106, 3) (197, 3) (87, 3) (96, 3) (65, 3) (67, 3) (93, 3) (108, 3) (164, 3) (74, 3) (141, 3) (78, 3) (386, 3) (119, 3) (85, 3) (158, 3) (95, 3) (90, 3) (71, 3) (125, 3) (79, 3) (108, 3) (106, 3) (137, 3) (110, 3) (234, 3) (51, 3) (92, 3) (89, 3) (64, 3) (85, 3) (156, 3) "
     ]
    }
   ],
   "source": [
    "for key in _data.keys():\n",
    "    print(_data[key].shape, end=' ')"
   ]
  },
  {
   "cell_type": "code",
   "execution_count": 119,
   "metadata": {},
   "outputs": [],
   "source": [
    "texts = []\n",
    "for key in _data.keys():\n",
    "    for arr in _data[key]:\n",
    "        seq = '-'.join(arr.astype(str))\n",
    "        texts.append(seq)\n",
    "\n",
    "texts = np.array(texts)"
   ]
  },
  {
   "cell_type": "code",
   "execution_count": 120,
   "metadata": {},
   "outputs": [
    {
     "name": "stdout",
     "output_type": "stream",
     "text": [
      "(36575,)\n"
     ]
    }
   ],
   "source": [
    "print(texts.shape)"
   ]
  },
  {
   "cell_type": "code",
   "execution_count": 121,
   "metadata": {},
   "outputs": [
    {
     "data": {
      "text/plain": [
       "array(['48.0-23.0-0.9375', '48.0-47.0-0.9375'], dtype='<U18')"
      ]
     },
     "execution_count": 121,
     "metadata": {},
     "output_type": "execute_result"
    }
   ],
   "source": [
    "texts[:2]"
   ]
  },
  {
   "cell_type": "code",
   "execution_count": 125,
   "metadata": {},
   "outputs": [],
   "source": [
    "VOCAB_SIZE = 10_000\n",
    "\n",
    "tokenizer = tf.keras.preprocessing.text.Tokenizer(num_words=VOCAB_SIZE, oov_token='<UNK>', filters='')"
   ]
  },
  {
   "cell_type": "code",
   "execution_count": 126,
   "metadata": {},
   "outputs": [],
   "source": [
    "tokenizer.fit_on_texts(texts)\n",
    "\n",
    "seqs = tokenizer.texts_to_sequences(texts)"
   ]
  },
  {
   "cell_type": "code",
   "execution_count": 127,
   "metadata": {},
   "outputs": [
    {
     "data": {
      "text/plain": [
       "9421"
      ]
     },
     "execution_count": 127,
     "metadata": {},
     "output_type": "execute_result"
    }
   ],
   "source": [
    "wi = tokenizer.word_index\n",
    "iw = { wi[k] : k for k in wi.keys()}\n",
    "\n",
    "len(iw)"
   ]
  },
  {
   "cell_type": "code",
   "execution_count": 128,
   "metadata": {},
   "outputs": [
    {
     "data": {
      "text/plain": [
       "36575"
      ]
     },
     "execution_count": 128,
     "metadata": {},
     "output_type": "execute_result"
    }
   ],
   "source": [
    "len(seqs)"
   ]
  },
  {
   "cell_type": "code",
   "execution_count": 130,
   "metadata": {},
   "outputs": [
    {
     "name": "stdout",
     "output_type": "stream",
     "text": [
      "(10, 50) (10, 50)\n"
     ]
    }
   ],
   "source": [
    "SEQ_LEN = 50\n",
    "N_TRAIN = 30_000\n",
    "\n",
    "data = tf.data.Dataset.from_tensor_slices(seqs[:N_TRAIN]).batch(SEQ_LEN + 1, drop_remainder=True)\n",
    "\n",
    "def seq_to_seq(text):\n",
    "    return tf.reshape(text[:-1], shape=(SEQ_LEN,)),\\\n",
    "            tf.reshape(text[1:], shape=(SEQ_LEN, ))\n",
    "\n",
    "data = data.map(seq_to_seq).batch(10, drop_remainder=True)\n",
    "\n",
    "val_data = tf.data.Dataset.from_tensor_slices(seqs[N_TRAIN:]).batch(\n",
    "    SEQ_LEN + 1, drop_remainder=True).map(seq_to_seq).batch(10, drop_remainder=True)\n",
    "\n",
    "for batch, label in data.take(1):\n",
    "    print(batch.shape, label.shape)"
   ]
  },
  {
   "cell_type": "code",
   "execution_count": 131,
   "metadata": {},
   "outputs": [],
   "source": [
    "EMBEDDING_DIM = 64\n",
    "\n",
    "model = tf.keras.models.Sequential(layers=[\n",
    "    tf.keras.layers.Embedding(VOCAB_SIZE, EMBEDDING_DIM,\n",
    "                              input_length=SEQ_LEN, batch_input_shape=[10, None]),\n",
    "    tf.keras.layers.Bidirectional(tf.keras.layers.LSTM(256, return_sequences=True, stateful=True)),\n",
    "    tf.keras.layers.Dense(VOCAB_SIZE, activation='softmax')\n",
    "])"
   ]
  },
  {
   "cell_type": "code",
   "execution_count": 132,
   "metadata": {},
   "outputs": [],
   "source": [
    "model.compile(optimizer='adam',\n",
    "              loss='sparse_categorical_crossentropy', metrics=['accuracy'])"
   ]
  },
  {
   "cell_type": "code",
   "execution_count": 133,
   "metadata": {},
   "outputs": [
    {
     "name": "stdout",
     "output_type": "stream",
     "text": [
      "Model: \"sequential_8\"\n",
      "_________________________________________________________________\n",
      "Layer (type)                 Output Shape              Param #   \n",
      "=================================================================\n",
      "embedding_8 (Embedding)      (10, None, 64)            640000    \n",
      "_________________________________________________________________\n",
      "bidirectional_9 (Bidirection (10, None, 512)           657408    \n",
      "_________________________________________________________________\n",
      "dense_8 (Dense)              (10, None, 10000)         5130000   \n",
      "=================================================================\n",
      "Total params: 6,427,408\n",
      "Trainable params: 6,427,408\n",
      "Non-trainable params: 0\n",
      "_________________________________________________________________\n"
     ]
    }
   ],
   "source": [
    "model.summary()"
   ]
  },
  {
   "cell_type": "code",
   "execution_count": 156,
   "metadata": {
    "scrolled": false
   },
   "outputs": [
    {
     "name": "stdout",
     "output_type": "stream",
     "text": [
      "Train for 58 steps, validate for 12 steps\n",
      "Epoch 1/25\n",
      "58/58 [==============================] - 73s 1s/step - loss: 0.8386 - accuracy: 0.8873 - val_loss: 7.5694 - val_accuracy: 0.1155\n",
      "Epoch 2/25\n",
      "58/58 [==============================] - 81s 1s/step - loss: 0.7175 - accuracy: 0.9117 - val_loss: 7.6002 - val_accuracy: 0.1172\n",
      "Epoch 3/25\n",
      "58/58 [==============================] - 82s 1s/step - loss: 0.6398 - accuracy: 0.9272 - val_loss: 7.6260 - val_accuracy: 0.1192\n",
      "Epoch 4/25\n",
      "58/58 [==============================] - 83s 1s/step - loss: 0.5602 - accuracy: 0.9427 - val_loss: 7.6113 - val_accuracy: 0.1217\n",
      "Epoch 5/25\n",
      "58/58 [==============================] - 81s 1s/step - loss: 0.4894 - accuracy: 0.9571 - val_loss: 7.5858 - val_accuracy: 0.1300\n",
      "Epoch 6/25\n",
      "58/58 [==============================] - 82s 1s/step - loss: 0.4295 - accuracy: 0.9679 - val_loss: 7.5826 - val_accuracy: 0.1337\n",
      "Epoch 7/25\n",
      "58/58 [==============================] - 84s 1s/step - loss: 0.3803 - accuracy: 0.9758 - val_loss: 7.5998 - val_accuracy: 0.1345\n",
      "Epoch 8/25\n",
      "58/58 [==============================] - 85s 1s/step - loss: 0.3341 - accuracy: 0.9826 - val_loss: 7.5950 - val_accuracy: 0.1365\n",
      "Epoch 9/25\n",
      "58/58 [==============================] - 84s 1s/step - loss: 0.2993 - accuracy: 0.9868 - val_loss: 7.5950 - val_accuracy: 0.1387\n",
      "Epoch 10/25\n",
      "58/58 [==============================] - 57s 978ms/step - loss: 0.2685 - accuracy: 0.9903 - val_loss: 7.6092 - val_accuracy: 0.1417\n",
      "Epoch 11/25\n",
      "58/58 [==============================] - 59s 1s/step - loss: 0.2425 - accuracy: 0.9926 - val_loss: 7.6186 - val_accuracy: 0.1412\n",
      "Epoch 12/25\n",
      "58/58 [==============================] - 80s 1s/step - loss: 0.2192 - accuracy: 0.9944 - val_loss: 7.6209 - val_accuracy: 0.1408\n",
      "Epoch 13/25\n",
      "58/58 [==============================] - 80s 1s/step - loss: 0.1988 - accuracy: 0.9958 - val_loss: 7.6170 - val_accuracy: 0.1450\n",
      "Epoch 14/25\n",
      " 6/58 [==>...........................] - ETA: 1:10 - loss: 0.1938 - accuracy: 0.9956"
     ]
    },
    {
     "ename": "KeyboardInterrupt",
     "evalue": "",
     "output_type": "error",
     "traceback": [
      "\u001b[0;31m---------------------------------------------------------------------------\u001b[0m",
      "\u001b[0;31mKeyboardInterrupt\u001b[0m                         Traceback (most recent call last)",
      "\u001b[0;32m<ipython-input-156-5b686d94e149>\u001b[0m in \u001b[0;36m<module>\u001b[0;34m\u001b[0m\n\u001b[0;32m----> 1\u001b[0;31m \u001b[0mmodel\u001b[0m\u001b[0;34m.\u001b[0m\u001b[0mfit\u001b[0m\u001b[0;34m(\u001b[0m\u001b[0mdata\u001b[0m\u001b[0;34m,\u001b[0m \u001b[0mepochs\u001b[0m\u001b[0;34m=\u001b[0m\u001b[0;36m25\u001b[0m\u001b[0;34m,\u001b[0m \u001b[0mvalidation_data\u001b[0m\u001b[0;34m=\u001b[0m\u001b[0;34m(\u001b[0m\u001b[0mval_data\u001b[0m\u001b[0;34m)\u001b[0m\u001b[0;34m)\u001b[0m\u001b[0;34m\u001b[0m\u001b[0;34m\u001b[0m\u001b[0m\n\u001b[0m",
      "\u001b[0;32m~/.local/share/virtualenvs/music-generation-U0GzpKSj/lib/python3.6/site-packages/tensorflow_core/python/keras/engine/training.py\u001b[0m in \u001b[0;36mfit\u001b[0;34m(self, x, y, batch_size, epochs, verbose, callbacks, validation_split, validation_data, shuffle, class_weight, sample_weight, initial_epoch, steps_per_epoch, validation_steps, validation_freq, max_queue_size, workers, use_multiprocessing, **kwargs)\u001b[0m\n\u001b[1;32m    817\u001b[0m         \u001b[0mmax_queue_size\u001b[0m\u001b[0;34m=\u001b[0m\u001b[0mmax_queue_size\u001b[0m\u001b[0;34m,\u001b[0m\u001b[0;34m\u001b[0m\u001b[0;34m\u001b[0m\u001b[0m\n\u001b[1;32m    818\u001b[0m         \u001b[0mworkers\u001b[0m\u001b[0;34m=\u001b[0m\u001b[0mworkers\u001b[0m\u001b[0;34m,\u001b[0m\u001b[0;34m\u001b[0m\u001b[0;34m\u001b[0m\u001b[0m\n\u001b[0;32m--> 819\u001b[0;31m         use_multiprocessing=use_multiprocessing)\n\u001b[0m\u001b[1;32m    820\u001b[0m \u001b[0;34m\u001b[0m\u001b[0m\n\u001b[1;32m    821\u001b[0m   def evaluate(self,\n",
      "\u001b[0;32m~/.local/share/virtualenvs/music-generation-U0GzpKSj/lib/python3.6/site-packages/tensorflow_core/python/keras/engine/training_v2.py\u001b[0m in \u001b[0;36mfit\u001b[0;34m(self, model, x, y, batch_size, epochs, verbose, callbacks, validation_split, validation_data, shuffle, class_weight, sample_weight, initial_epoch, steps_per_epoch, validation_steps, validation_freq, max_queue_size, workers, use_multiprocessing, **kwargs)\u001b[0m\n\u001b[1;32m    340\u001b[0m                 \u001b[0mmode\u001b[0m\u001b[0;34m=\u001b[0m\u001b[0mModeKeys\u001b[0m\u001b[0;34m.\u001b[0m\u001b[0mTRAIN\u001b[0m\u001b[0;34m,\u001b[0m\u001b[0;34m\u001b[0m\u001b[0;34m\u001b[0m\u001b[0m\n\u001b[1;32m    341\u001b[0m                 \u001b[0mtraining_context\u001b[0m\u001b[0;34m=\u001b[0m\u001b[0mtraining_context\u001b[0m\u001b[0;34m,\u001b[0m\u001b[0;34m\u001b[0m\u001b[0;34m\u001b[0m\u001b[0m\n\u001b[0;32m--> 342\u001b[0;31m                 total_epochs=epochs)\n\u001b[0m\u001b[1;32m    343\u001b[0m             \u001b[0mcbks\u001b[0m\u001b[0;34m.\u001b[0m\u001b[0mmake_logs\u001b[0m\u001b[0;34m(\u001b[0m\u001b[0mmodel\u001b[0m\u001b[0;34m,\u001b[0m \u001b[0mepoch_logs\u001b[0m\u001b[0;34m,\u001b[0m \u001b[0mtraining_result\u001b[0m\u001b[0;34m,\u001b[0m \u001b[0mModeKeys\u001b[0m\u001b[0;34m.\u001b[0m\u001b[0mTRAIN\u001b[0m\u001b[0;34m)\u001b[0m\u001b[0;34m\u001b[0m\u001b[0;34m\u001b[0m\u001b[0m\n\u001b[1;32m    344\u001b[0m \u001b[0;34m\u001b[0m\u001b[0m\n",
      "\u001b[0;32m~/.local/share/virtualenvs/music-generation-U0GzpKSj/lib/python3.6/site-packages/tensorflow_core/python/keras/engine/training_v2.py\u001b[0m in \u001b[0;36mrun_one_epoch\u001b[0;34m(model, iterator, execution_function, dataset_size, batch_size, strategy, steps_per_epoch, num_samples, mode, training_context, total_epochs)\u001b[0m\n\u001b[1;32m    126\u001b[0m         step=step, mode=mode, size=current_batch_size) as batch_logs:\n\u001b[1;32m    127\u001b[0m       \u001b[0;32mtry\u001b[0m\u001b[0;34m:\u001b[0m\u001b[0;34m\u001b[0m\u001b[0;34m\u001b[0m\u001b[0m\n\u001b[0;32m--> 128\u001b[0;31m         \u001b[0mbatch_outs\u001b[0m \u001b[0;34m=\u001b[0m \u001b[0mexecution_function\u001b[0m\u001b[0;34m(\u001b[0m\u001b[0miterator\u001b[0m\u001b[0;34m)\u001b[0m\u001b[0;34m\u001b[0m\u001b[0;34m\u001b[0m\u001b[0m\n\u001b[0m\u001b[1;32m    129\u001b[0m       \u001b[0;32mexcept\u001b[0m \u001b[0;34m(\u001b[0m\u001b[0mStopIteration\u001b[0m\u001b[0;34m,\u001b[0m \u001b[0merrors\u001b[0m\u001b[0;34m.\u001b[0m\u001b[0mOutOfRangeError\u001b[0m\u001b[0;34m)\u001b[0m\u001b[0;34m:\u001b[0m\u001b[0;34m\u001b[0m\u001b[0;34m\u001b[0m\u001b[0m\n\u001b[1;32m    130\u001b[0m         \u001b[0;31m# TODO(kaftan): File bug about tf function and errors.OutOfRangeError?\u001b[0m\u001b[0;34m\u001b[0m\u001b[0;34m\u001b[0m\u001b[0;34m\u001b[0m\u001b[0m\n",
      "\u001b[0;32m~/.local/share/virtualenvs/music-generation-U0GzpKSj/lib/python3.6/site-packages/tensorflow_core/python/keras/engine/training_v2_utils.py\u001b[0m in \u001b[0;36mexecution_function\u001b[0;34m(input_fn)\u001b[0m\n\u001b[1;32m     96\u001b[0m     \u001b[0;31m# `numpy` translates Tensors to values in Eager mode.\u001b[0m\u001b[0;34m\u001b[0m\u001b[0;34m\u001b[0m\u001b[0;34m\u001b[0m\u001b[0m\n\u001b[1;32m     97\u001b[0m     return nest.map_structure(_non_none_constant_value,\n\u001b[0;32m---> 98\u001b[0;31m                               distributed_function(input_fn))\n\u001b[0m\u001b[1;32m     99\u001b[0m \u001b[0;34m\u001b[0m\u001b[0m\n\u001b[1;32m    100\u001b[0m   \u001b[0;32mreturn\u001b[0m \u001b[0mexecution_function\u001b[0m\u001b[0;34m\u001b[0m\u001b[0;34m\u001b[0m\u001b[0m\n",
      "\u001b[0;32m~/.local/share/virtualenvs/music-generation-U0GzpKSj/lib/python3.6/site-packages/tensorflow_core/python/eager/def_function.py\u001b[0m in \u001b[0;36m__call__\u001b[0;34m(self, *args, **kwds)\u001b[0m\n\u001b[1;32m    566\u001b[0m         \u001b[0mxla_context\u001b[0m\u001b[0;34m.\u001b[0m\u001b[0mExit\u001b[0m\u001b[0;34m(\u001b[0m\u001b[0;34m)\u001b[0m\u001b[0;34m\u001b[0m\u001b[0;34m\u001b[0m\u001b[0m\n\u001b[1;32m    567\u001b[0m     \u001b[0;32melse\u001b[0m\u001b[0;34m:\u001b[0m\u001b[0;34m\u001b[0m\u001b[0;34m\u001b[0m\u001b[0m\n\u001b[0;32m--> 568\u001b[0;31m       \u001b[0mresult\u001b[0m \u001b[0;34m=\u001b[0m \u001b[0mself\u001b[0m\u001b[0;34m.\u001b[0m\u001b[0m_call\u001b[0m\u001b[0;34m(\u001b[0m\u001b[0;34m*\u001b[0m\u001b[0margs\u001b[0m\u001b[0;34m,\u001b[0m \u001b[0;34m**\u001b[0m\u001b[0mkwds\u001b[0m\u001b[0;34m)\u001b[0m\u001b[0;34m\u001b[0m\u001b[0;34m\u001b[0m\u001b[0m\n\u001b[0m\u001b[1;32m    569\u001b[0m \u001b[0;34m\u001b[0m\u001b[0m\n\u001b[1;32m    570\u001b[0m     \u001b[0;32mif\u001b[0m \u001b[0mtracing_count\u001b[0m \u001b[0;34m==\u001b[0m \u001b[0mself\u001b[0m\u001b[0;34m.\u001b[0m\u001b[0m_get_tracing_count\u001b[0m\u001b[0;34m(\u001b[0m\u001b[0;34m)\u001b[0m\u001b[0;34m:\u001b[0m\u001b[0;34m\u001b[0m\u001b[0;34m\u001b[0m\u001b[0m\n",
      "\u001b[0;32m~/.local/share/virtualenvs/music-generation-U0GzpKSj/lib/python3.6/site-packages/tensorflow_core/python/eager/def_function.py\u001b[0m in \u001b[0;36m_call\u001b[0;34m(self, *args, **kwds)\u001b[0m\n\u001b[1;32m    597\u001b[0m       \u001b[0;31m# In this case we have created variables on the first call, so we run the\u001b[0m\u001b[0;34m\u001b[0m\u001b[0;34m\u001b[0m\u001b[0;34m\u001b[0m\u001b[0m\n\u001b[1;32m    598\u001b[0m       \u001b[0;31m# defunned version which is guaranteed to never create variables.\u001b[0m\u001b[0;34m\u001b[0m\u001b[0;34m\u001b[0m\u001b[0;34m\u001b[0m\u001b[0m\n\u001b[0;32m--> 599\u001b[0;31m       \u001b[0;32mreturn\u001b[0m \u001b[0mself\u001b[0m\u001b[0;34m.\u001b[0m\u001b[0m_stateless_fn\u001b[0m\u001b[0;34m(\u001b[0m\u001b[0;34m*\u001b[0m\u001b[0margs\u001b[0m\u001b[0;34m,\u001b[0m \u001b[0;34m**\u001b[0m\u001b[0mkwds\u001b[0m\u001b[0;34m)\u001b[0m  \u001b[0;31m# pylint: disable=not-callable\u001b[0m\u001b[0;34m\u001b[0m\u001b[0;34m\u001b[0m\u001b[0m\n\u001b[0m\u001b[1;32m    600\u001b[0m     \u001b[0;32melif\u001b[0m \u001b[0mself\u001b[0m\u001b[0;34m.\u001b[0m\u001b[0m_stateful_fn\u001b[0m \u001b[0;32mis\u001b[0m \u001b[0;32mnot\u001b[0m \u001b[0;32mNone\u001b[0m\u001b[0;34m:\u001b[0m\u001b[0;34m\u001b[0m\u001b[0;34m\u001b[0m\u001b[0m\n\u001b[1;32m    601\u001b[0m       \u001b[0;31m# Release the lock early so that multiple threads can perform the call\u001b[0m\u001b[0;34m\u001b[0m\u001b[0;34m\u001b[0m\u001b[0;34m\u001b[0m\u001b[0m\n",
      "\u001b[0;32m~/.local/share/virtualenvs/music-generation-U0GzpKSj/lib/python3.6/site-packages/tensorflow_core/python/eager/function.py\u001b[0m in \u001b[0;36m__call__\u001b[0;34m(self, *args, **kwargs)\u001b[0m\n\u001b[1;32m   2361\u001b[0m     \u001b[0;32mwith\u001b[0m \u001b[0mself\u001b[0m\u001b[0;34m.\u001b[0m\u001b[0m_lock\u001b[0m\u001b[0;34m:\u001b[0m\u001b[0;34m\u001b[0m\u001b[0;34m\u001b[0m\u001b[0m\n\u001b[1;32m   2362\u001b[0m       \u001b[0mgraph_function\u001b[0m\u001b[0;34m,\u001b[0m \u001b[0margs\u001b[0m\u001b[0;34m,\u001b[0m \u001b[0mkwargs\u001b[0m \u001b[0;34m=\u001b[0m \u001b[0mself\u001b[0m\u001b[0;34m.\u001b[0m\u001b[0m_maybe_define_function\u001b[0m\u001b[0;34m(\u001b[0m\u001b[0margs\u001b[0m\u001b[0;34m,\u001b[0m \u001b[0mkwargs\u001b[0m\u001b[0;34m)\u001b[0m\u001b[0;34m\u001b[0m\u001b[0;34m\u001b[0m\u001b[0m\n\u001b[0;32m-> 2363\u001b[0;31m     \u001b[0;32mreturn\u001b[0m \u001b[0mgraph_function\u001b[0m\u001b[0;34m.\u001b[0m\u001b[0m_filtered_call\u001b[0m\u001b[0;34m(\u001b[0m\u001b[0margs\u001b[0m\u001b[0;34m,\u001b[0m \u001b[0mkwargs\u001b[0m\u001b[0;34m)\u001b[0m  \u001b[0;31m# pylint: disable=protected-access\u001b[0m\u001b[0;34m\u001b[0m\u001b[0;34m\u001b[0m\u001b[0m\n\u001b[0m\u001b[1;32m   2364\u001b[0m \u001b[0;34m\u001b[0m\u001b[0m\n\u001b[1;32m   2365\u001b[0m   \u001b[0;34m@\u001b[0m\u001b[0mproperty\u001b[0m\u001b[0;34m\u001b[0m\u001b[0;34m\u001b[0m\u001b[0m\n",
      "\u001b[0;32m~/.local/share/virtualenvs/music-generation-U0GzpKSj/lib/python3.6/site-packages/tensorflow_core/python/eager/function.py\u001b[0m in \u001b[0;36m_filtered_call\u001b[0;34m(self, args, kwargs)\u001b[0m\n\u001b[1;32m   1609\u001b[0m          if isinstance(t, (ops.Tensor,\n\u001b[1;32m   1610\u001b[0m                            resource_variable_ops.BaseResourceVariable))),\n\u001b[0;32m-> 1611\u001b[0;31m         self.captured_inputs)\n\u001b[0m\u001b[1;32m   1612\u001b[0m \u001b[0;34m\u001b[0m\u001b[0m\n\u001b[1;32m   1613\u001b[0m   \u001b[0;32mdef\u001b[0m \u001b[0m_call_flat\u001b[0m\u001b[0;34m(\u001b[0m\u001b[0mself\u001b[0m\u001b[0;34m,\u001b[0m \u001b[0margs\u001b[0m\u001b[0;34m,\u001b[0m \u001b[0mcaptured_inputs\u001b[0m\u001b[0;34m,\u001b[0m \u001b[0mcancellation_manager\u001b[0m\u001b[0;34m=\u001b[0m\u001b[0;32mNone\u001b[0m\u001b[0;34m)\u001b[0m\u001b[0;34m:\u001b[0m\u001b[0;34m\u001b[0m\u001b[0;34m\u001b[0m\u001b[0m\n",
      "\u001b[0;32m~/.local/share/virtualenvs/music-generation-U0GzpKSj/lib/python3.6/site-packages/tensorflow_core/python/eager/function.py\u001b[0m in \u001b[0;36m_call_flat\u001b[0;34m(self, args, captured_inputs, cancellation_manager)\u001b[0m\n\u001b[1;32m   1690\u001b[0m       \u001b[0;31m# No tape is watching; skip to running the function.\u001b[0m\u001b[0;34m\u001b[0m\u001b[0;34m\u001b[0m\u001b[0;34m\u001b[0m\u001b[0m\n\u001b[1;32m   1691\u001b[0m       return self._build_call_outputs(self._inference_function.call(\n\u001b[0;32m-> 1692\u001b[0;31m           ctx, args, cancellation_manager=cancellation_manager))\n\u001b[0m\u001b[1;32m   1693\u001b[0m     forward_backward = self._select_forward_and_backward_functions(\n\u001b[1;32m   1694\u001b[0m         \u001b[0margs\u001b[0m\u001b[0;34m,\u001b[0m\u001b[0;34m\u001b[0m\u001b[0;34m\u001b[0m\u001b[0m\n",
      "\u001b[0;32m~/.local/share/virtualenvs/music-generation-U0GzpKSj/lib/python3.6/site-packages/tensorflow_core/python/eager/function.py\u001b[0m in \u001b[0;36mcall\u001b[0;34m(self, ctx, args, cancellation_manager)\u001b[0m\n\u001b[1;32m    543\u001b[0m               \u001b[0minputs\u001b[0m\u001b[0;34m=\u001b[0m\u001b[0margs\u001b[0m\u001b[0;34m,\u001b[0m\u001b[0;34m\u001b[0m\u001b[0;34m\u001b[0m\u001b[0m\n\u001b[1;32m    544\u001b[0m               \u001b[0mattrs\u001b[0m\u001b[0;34m=\u001b[0m\u001b[0;34m(\u001b[0m\u001b[0;34m\"executor_type\"\u001b[0m\u001b[0;34m,\u001b[0m \u001b[0mexecutor_type\u001b[0m\u001b[0;34m,\u001b[0m \u001b[0;34m\"config_proto\"\u001b[0m\u001b[0;34m,\u001b[0m \u001b[0mconfig\u001b[0m\u001b[0;34m)\u001b[0m\u001b[0;34m,\u001b[0m\u001b[0;34m\u001b[0m\u001b[0;34m\u001b[0m\u001b[0m\n\u001b[0;32m--> 545\u001b[0;31m               ctx=ctx)\n\u001b[0m\u001b[1;32m    546\u001b[0m         \u001b[0;32melse\u001b[0m\u001b[0;34m:\u001b[0m\u001b[0;34m\u001b[0m\u001b[0;34m\u001b[0m\u001b[0m\n\u001b[1;32m    547\u001b[0m           outputs = execute.execute_with_cancellation(\n",
      "\u001b[0;32m~/.local/share/virtualenvs/music-generation-U0GzpKSj/lib/python3.6/site-packages/tensorflow_core/python/eager/execute.py\u001b[0m in \u001b[0;36mquick_execute\u001b[0;34m(op_name, num_outputs, inputs, attrs, ctx, name)\u001b[0m\n\u001b[1;32m     59\u001b[0m     tensors = pywrap_tensorflow.TFE_Py_Execute(ctx._handle, device_name,\n\u001b[1;32m     60\u001b[0m                                                \u001b[0mop_name\u001b[0m\u001b[0;34m,\u001b[0m \u001b[0minputs\u001b[0m\u001b[0;34m,\u001b[0m \u001b[0mattrs\u001b[0m\u001b[0;34m,\u001b[0m\u001b[0;34m\u001b[0m\u001b[0;34m\u001b[0m\u001b[0m\n\u001b[0;32m---> 61\u001b[0;31m                                                num_outputs)\n\u001b[0m\u001b[1;32m     62\u001b[0m   \u001b[0;32mexcept\u001b[0m \u001b[0mcore\u001b[0m\u001b[0;34m.\u001b[0m\u001b[0m_NotOkStatusException\u001b[0m \u001b[0;32mas\u001b[0m \u001b[0me\u001b[0m\u001b[0;34m:\u001b[0m\u001b[0;34m\u001b[0m\u001b[0;34m\u001b[0m\u001b[0m\n\u001b[1;32m     63\u001b[0m     \u001b[0;32mif\u001b[0m \u001b[0mname\u001b[0m \u001b[0;32mis\u001b[0m \u001b[0;32mnot\u001b[0m \u001b[0;32mNone\u001b[0m\u001b[0;34m:\u001b[0m\u001b[0;34m\u001b[0m\u001b[0;34m\u001b[0m\u001b[0m\n",
      "\u001b[0;31mKeyboardInterrupt\u001b[0m: "
     ]
    }
   ],
   "source": [
    "model.fit(data, epochs=25, validation_data=(val_data))"
   ]
  },
  {
   "cell_type": "code",
   "execution_count": 157,
   "metadata": {},
   "outputs": [],
   "source": [
    "for batch, labels in val_data.take(10):\n",
    "    break"
   ]
  },
  {
   "cell_type": "code",
   "execution_count": 186,
   "metadata": {},
   "outputs": [],
   "source": [
    "model.reset_states() # not to use fixed batch size\n",
    "\n",
    "generated_text = []\n",
    "\n",
    "input_ = batch[0]\n",
    "\n",
    "for _ in range(50):\n",
    "    predictions = model.predict(input_)\n",
    "    predictions = tf.squeeze(predictions, 1)\n",
    "    predicted_id = None\n",
    "    while predicted_id not in iw.keys():\n",
    "        predicted_id = tf.random.categorical(predictions, num_samples=1)[-1, 0].numpy()\n",
    "    vals = [val for val in input_[:-1]]\n",
    "    vals.append(predicted_id)\n",
    "    input_ = tf.stack(vals, axis=0)\n",
    "    generated_text.append(iw[predicted_id])"
   ]
  },
  {
   "cell_type": "code",
   "execution_count": 187,
   "metadata": {},
   "outputs": [],
   "source": [
    "piece = [np.array(val.split('-')).astype(float) for val in generated_text]"
   ]
  },
  {
   "cell_type": "code",
   "execution_count": 188,
   "metadata": {},
   "outputs": [],
   "source": [
    "piece = np.array(piece)"
   ]
  },
  {
   "cell_type": "code",
   "execution_count": 189,
   "metadata": {},
   "outputs": [],
   "source": [
    "index_to_note = {note_to_index[n] : n for n in note_to_index.keys()}\n",
    "\n",
    "piece = [[index_to_note[p[0]], *p[1:]] for p in piece]"
   ]
  },
  {
   "cell_type": "code",
   "execution_count": 227,
   "metadata": {},
   "outputs": [
    {
     "name": "stdout",
     "output_type": "stream",
     "text": [
      "C#3 C4 G2 A G2 Bb F# F# D C5 A F#2 D F F# A G G2 G F F E E# A A C4 C5 D E C3 G2 D C# G F C4 C5 A G# F# F# C# Gb A D E G F# E2 G "
     ]
    }
   ],
   "source": [
    "s = stream.Stream()\n",
    "\n",
    "for lm in piece:\n",
    "    print(lm[0].replace('♭', 'b').replace('♯', '#'), end=' ')\n",
    "    try:\n",
    "        \n",
    "        n = note.Note(nameWithOctave=lm[0].replace('♭', 'b').replace('♯', '#'), quarterLength=lm[2])\n",
    "        n.duration = duration.Duration(lm[2])\n",
    "        n.offset = lm[1]\n",
    "        \n",
    "        \n",
    "        \n",
    "        s.insert(n)\n",
    "    except Exception:\n",
    "        print('err', end=' ')\n",
    "        pass"
   ]
  },
  {
   "cell_type": "code",
   "execution_count": 228,
   "metadata": {},
   "outputs": [
    {
     "data": {
      "text/html": [
       "\n",
       "                <div id='midiPlayerDiv408068'></div>\n",
       "                <link rel=\"stylesheet\" href=\"//cuthbertLab.github.io/music21j/css/m21.css\"\n",
       "                    type=\"text/css\" />\n",
       "                <script>\n",
       "                require.config({\n",
       "                    paths: {'music21': '//cuthbertLab.github.io/music21j/src/music21'}\n",
       "                });\n",
       "                require(['music21'], function() {\n",
       "                               mp = new music21.miditools.MidiPlayer();\n",
       "                               mp.addPlayer('#midiPlayerDiv408068');\n",
       "                               mp.base64Load('data:audio/midi;base64,TVRoZAAAAAYAAQABBABNVHJrAAAB9QD/AwAA4ABAAJBDWotAgEMAhECQPlqPQIA+AJBAkDBahgCQQVqBQIAwAACAQQCWQJA+WoFAgD4AQJBCWodAgEIAQJBGWodAgEYAjECQRVqBQIBFAKpAkEhag0CASACEQJBBWodAgEEAiECQMVoAkCtag0CAMQCEAIArAKhAkEFaAJA8WoNAgEEAAIA8AJRAkEFaAJBFWgCQPlqDQIBFAIQAgD4AiECAQQCIAJArWgCQK1qDQIArAIhAkEJagUCAQgCCAIArAJhAkENaiACQPVqDQIBDAACAPQBAkEBag0CAQACIQJA9WoNAgD0AQJBFWoNAgEUAQJA+WodAgD4AmECQKlqEAJBAWoNAgCoAAIBAAJBAkEJai0CAQgCEQJBFWogAkENah0CARQBAkChah0CAQwAAgCgAiECQQlqHQIBCAIhAkEhag0CASADCQJA8WoFAgDwAmECQQlqPQIBCAJhAkEVag0CARQCCQJBDWoFAgEMAqECQQVqDQIBBAI5AkEBagUCAQACEQJArWp9AgCsAjECQQlqDQIBCAIRAkD5agUCAPgCeQJBDWoNAgEMAgeBAkDxah0CAPACBtECQQlqBQIBCAIpAkEVah0CARQCB7ECQRFqDQIBEAIGgQJBFWoFAgEUAgaJAkEhag0CASACIAP8vAA==');\n",
       "                        });\n",
       "                </script>"
      ],
      "text/plain": [
       "<IPython.core.display.HTML object>"
      ]
     },
     "metadata": {},
     "output_type": "display_data"
    }
   ],
   "source": [
    "s.show('midi')"
   ]
  },
  {
   "cell_type": "code",
   "execution_count": 229,
   "metadata": {},
   "outputs": [
    {
     "data": {
      "image/png": "[encoded data removed]",
      "text/plain": [
       "<Figure size 720x432 with 1 Axes>"
      ]
     },
     "metadata": {
      "image/png": {
       "height": 382,
       "width": 594
      }
     },
     "output_type": "display_data"
    }
   ],
   "source": [
    "gr = graph.plot.HorizontalBarPitchSpaceOffset(s)\n",
    "gr.extractData()\n",
    "gr.run()"
   ]
  },
  {
   "cell_type": "code",
   "execution_count": 200,
   "metadata": {},
   "outputs": [
    {
     "data": {
      "image/png": "[encoded data removed]",
      "text/plain": [
       "<Figure size 720x432 with 1 Axes>"
      ]
     },
     "metadata": {
      "image/png": {
       "height": 382,
       "width": 584
      }
     },
     "output_type": "display_data"
    }
   ],
   "source": [
    "streamObj = corpus.parse(paths[0])\n",
    "    \n",
    "gr = graph.plot.HorizontalBarPitchSpaceOffset(streamObj)\n",
    "gr.extractData()\n",
    "\n",
    "gr.run()"
   ]
  },
  {
   "cell_type": "code",
   "execution_count": null,
   "metadata": {},
   "outputs": [],
   "source": []
  }
 ],
 "metadata": {
  "kernelspec": {
   "display_name": "Python 3",
   "language": "python",
   "name": "python3"
  },
  "language_info": {
   "codemirror_mode": {
    "name": "ipython",
    "version": 3
   },
   "file_extension": ".py",
   "mimetype": "text/x-python",
   "name": "python",
   "nbconvert_exporter": "python",
   "pygments_lexer": "ipython3",
   "version": "3.6.9"
  }
 },
 "nbformat": 4,
 "nbformat_minor": 4
}
